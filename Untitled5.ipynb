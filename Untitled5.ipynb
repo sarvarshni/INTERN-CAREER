{
  "nbformat": 4,
  "nbformat_minor": 0,
  "metadata": {
    "colab": {
      "provenance": [],
      "authorship_tag": "ABX9TyN+Pgr7I+ZMQoQOFvPMbyCy",
      "include_colab_link": true
    },
    "kernelspec": {
      "name": "python3",
      "display_name": "Python 3"
    },
    "language_info": {
      "name": "python"
    }
  },
  "cells": [
    {
      "cell_type": "markdown",
      "metadata": {
        "id": "view-in-github",
        "colab_type": "text"
      },
      "source": [
        "<a href=\"https://colab.research.google.com/github/sarvarshni/INTERN-CAREER/blob/main/Untitled5.ipynb\" target=\"_parent\"><img src=\"https://colab.research.google.com/assets/colab-badge.svg\" alt=\"Open In Colab\"/></a>"
      ]
    },
    {
      "cell_type": "code",
      "execution_count": null,
      "metadata": {
        "id": "bPD21wiYYQY8"
      },
      "outputs": [],
      "source": [
        "import requests\n",
        "import pandas as pd\n",
        "from bs4 import BeautifulSoup\n",
        "\n",
        "url = \"https://www.iplt20.com/auction\"\n",
        "r = requests.get(url)\n",
        "#print(r)\n",
        "\n",
        "soup = BeautifulSoup(r.text,\"lxml\")\n",
        "table = soup.find(\"table\",class_=\"ih-td-tab auction-tbl\")\n",
        "#print(table)\n",
        "\n",
        "headers = table.find_all(\"th\")\n",
        "#print(headers)\n",
        "\n",
        "titles = []\n",
        "for i in headers:\n",
        "    title = i.text\n",
        "    titles.append(title)\n",
        "    #print(titles)\n",
        "\n",
        "df = pd.DataFrame(columns = titles)\n",
        "#print(df)\n",
        "\n",
        "rows = table.find_all(\"tr\")\n",
        "#print(rows)\n",
        "\n",
        "for i in rows[1:]:\n",
        "    data = i.find_all(\"td\")\n",
        "    #print(data)\n",
        "    row = [tr.text for tr in data]\n",
        "    #print(row)\n",
        "    l = len(df)\n",
        "    df.loc[l] = row\n",
        "    #print(df)\n",
        "\n",
        "\n",
        "\n",
        "df.to_csv(\"iplt20_2024_auction_data.csv\")"
      ]
    }
  ]
}