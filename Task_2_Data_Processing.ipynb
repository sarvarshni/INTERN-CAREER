{
  "nbformat": 4,
  "nbformat_minor": 0,
  "metadata": {
    "colab": {
      "provenance": [],
      "include_colab_link": true
    },
    "kernelspec": {
      "name": "python3",
      "display_name": "Python 3"
    },
    "language_info": {
      "name": "python"
    }
  },
  "cells": [
    {
      "cell_type": "markdown",
      "metadata": {
        "id": "view-in-github",
        "colab_type": "text"
      },
      "source": [
        "<a href=\"https://colab.research.google.com/github/sarvarshni/INTERN-CAREER/blob/main/Task_2_Data_Processing.ipynb\" target=\"_parent\"><img src=\"https://colab.research.google.com/assets/colab-badge.svg\" alt=\"Open In Colab\"/></a>"
      ]
    },
    {
      "cell_type": "code",
      "execution_count": null,
      "metadata": {
        "colab": {
          "base_uri": "https://localhost:8080/",
          "height": 732
        },
        "id": "mQSf0GxQP8w0",
        "outputId": "c86e3da5-370a-45d9-bfd6-0a0a5588492d"
      },
      "outputs": [
        {
          "output_type": "stream",
          "name": "stdout",
          "text": [
            "Summary Statistics for temperature:\n",
            "count       14\n",
            "unique       3\n",
            "top       mild\n",
            "freq         6\n",
            "Name: temperature, dtype: object\n",
            "\n",
            "Filtered Data for temperature = hot:\n",
            "     outlook temperature humidity  windy play\n",
            "0   overcast         hot     high  False  yes\n",
            "3   overcast         hot   normal  False  yes\n",
            "9      sunny         hot     high  False   no\n",
            "10     sunny         hot     high   True   no\n"
          ]
        },
        {
          "output_type": "display_data",
          "data": {
            "text/plain": [
              "<Figure size 640x480 with 1 Axes>"
            ],
            "image/png": "[encoded data removed]"
          },
          "metadata": {}
        },
        {
          "output_type": "stream",
          "name": "stdout",
          "text": [
            "\n",
            "Processed data saved to processed_data.csv\n"
          ]
        }
      ],
      "source": [
        "import pandas as pd\n",
        "import statistics\n",
        "import matplotlib.pyplot as plt\n",
        "\n",
        "# Step 1: Read the dataset\n",
        "def read_dataset(file_path):\n",
        "    return pd.read_csv(file_path)\n",
        "\n",
        "# Step 2: Calculate summary statistics\n",
        "def calculate_summary_statistics(data):\n",
        "    summary_stats = data.describe()\n",
        "    return summary_stats\n",
        "\n",
        "# Step 3: Data filtering based on specific criteria\n",
        "def filter_data(data, criteria_column, criteria_value):\n",
        "    filtered_data = data[data[criteria_column] == criteria_value]\n",
        "    return filtered_data\n",
        "\n",
        "# Step 4: Generate data visualizations\n",
        "def generate_histogram(data, column_name):\n",
        "    plt.hist(data[column_name], bins=20, color='blue', edgecolor='black')\n",
        "    plt.title(f'Histogram of {column_name}')\n",
        "    plt.xlabel(column_name)\n",
        "    plt.ylabel('Frequency')\n",
        "    plt.show()\n",
        "\n",
        "# Step 5: Save the processed data to a new file\n",
        "def save_processed_data(data, output_file_path):\n",
        "    data.to_csv(output_file_path, index=False)\n",
        "\n",
        "# Main function\n",
        "def main():\n",
        "    # Specify your CSV file path\n",
        "    dataset_path = r'/Weather.csv'\n",
        "    # dataset_path = r<your_data_path>\n",
        "\n",
        "    # Step 1: Read the dataset\n",
        "    data = read_dataset(dataset_path)\n",
        "\n",
        "    # Step 2: Calculate summary statistics for the \"temperature\" column\n",
        "    summary_stats = calculate_summary_statistics(data['temperature'])#column_name = 'you_column_name'\n",
        "    print(\"Summary Statistics for temperature:\")\n",
        "    print(summary_stats)\n",
        "\n",
        "\n",
        "    # Step 3: Data filtering based on specific criteria (\"hot\")\n",
        "    criteria_column = 'temperature'\n",
        "    criteria_value = 'hot'  # Replace with your actual criteria value\n",
        "    filtered_data = filter_data(data, criteria_column, criteria_value)\n",
        "    print(f\"\\nFiltered Data for {criteria_column} = {criteria_value}:\")\n",
        "    print(filtered_data)\n",
        "\n",
        "    # Step 4: Generate histogram for the \"Temperature\" column\n",
        "    column_to_visualize = 'temperature'\n",
        "    generate_histogram(data, column_to_visualize)\n",
        "\n",
        "    # Step 5: Save the processed data to a new file\n",
        "    output_file_path = 'processed_data.csv'\n",
        "    save_processed_data(data, output_file_path)\n",
        "    print(f\"\\nProcessed data saved to {output_file_path}\")\n",
        "\n",
        "if __name__ == \"__main__\":\n",
        "    main()"
      ]
    },
    {
      "cell_type": "markdown",
      "source": [
        "# New Section"
      ],
      "metadata": {
        "id": "Z23DWshOQYLC"
      }
    }
  ]
}